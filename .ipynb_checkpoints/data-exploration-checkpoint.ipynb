{
 "cells": [
  {
   "cell_type": "code",
   "execution_count": 4,
   "metadata": {},
   "outputs": [],
   "source": [
    "import pandas as pd\n",
    "import csv"
   ]
  },
  {
   "cell_type": "code",
   "execution_count": 1,
   "metadata": {
    "collapsed": true,
    "jupyter": {
     "outputs_hidden": true
    }
   },
   "outputs": [
    {
     "data": {
      "text/plain": [
       "'\\nTASK 0:\\nWhat is the first record of texts and what is the last record of calls?\\nPrint messages:\\n\"First record of texts, <incoming number> texts <answering number> at time <time>\"\\n\"Last record of calls, <incoming number> calls <answering number> at time <time>, lasting <during> seconds\"\\n'"
      ]
     },
     "execution_count": 1,
     "metadata": {},
     "output_type": "execute_result"
    }
   ],
   "source": [
    "\"\"\"\n",
    "TASK 0:\n",
    "What is the first record of texts and what is the last record of calls?\n",
    "Print messages:\n",
    "\"First record of texts, <incoming number> texts <answering number> at time <time>\"\n",
    "\"Last record of calls, <incoming number> calls <answering number> at time <time>, lasting <during> seconds\"\n",
    "\"\"\""
   ]
  },
  {
   "cell_type": "code",
   "execution_count": 5,
   "metadata": {},
   "outputs": [],
   "source": [
    "with open('texts.csv', 'r') as f:\n",
    "    reader = csv.reader(f)\n",
    "    texts = list(reader)\n",
    "\n",
    "with open('calls.csv', 'r') as f:\n",
    "    reader = csv.reader(f)\n",
    "    calls = list(reader)"
   ]
  },
  {
   "cell_type": "code",
   "execution_count": 9,
   "metadata": {},
   "outputs": [
    {
     "data": {
      "text/plain": [
       "['97424 22395', '90365 06212', '01-09-2016 06:03:22']"
      ]
     },
     "execution_count": 9,
     "metadata": {},
     "output_type": "execute_result"
    }
   ],
   "source": [
    "texts[0]\n",
    "\"sending telephone number (string), receiving telephone number (string), timestamp of text message (string)\""
   ]
  },
  {
   "cell_type": "code",
   "execution_count": 10,
   "metadata": {},
   "outputs": [
    {
     "data": {
      "text/plain": [
       "['78130 00821', '98453 94494', '01-09-2016 06:01:12', '186']"
      ]
     },
     "execution_count": 10,
     "metadata": {},
     "output_type": "execute_result"
    }
   ],
   "source": [
    "calls[0]\n",
    "\"calling telephone number (string), receiving telephone number (string), start timestamp of telephone call (string), duration of telephone call in seconds (string)\""
   ]
  },
  {
   "cell_type": "code",
   "execution_count": 11,
   "metadata": {
    "collapsed": true,
    "jupyter": {
     "outputs_hidden": true
    }
   },
   "outputs": [
    {
     "data": {
      "text/plain": [
       "'All telephone numbers are 10 or 11 numerical digits long. \\nEach telephone number starts with a code indicating the location and/or type of the telephone number. \\nThere are three different kinds of telephone numbers, each with a different format:\\nFixed lines (022)4084062\\nMobile lines 93412 66159\\nTelemarketers 1402316533\\n'"
      ]
     },
     "execution_count": 11,
     "metadata": {},
     "output_type": "execute_result"
    }
   ],
   "source": [
    "\"\"\"All telephone numbers are 10 or 11 numerical digits long. \n",
    "Each telephone number starts with a code indicating the location and/or type of the telephone number. \n",
    "There are three different kinds of telephone numbers, each with a different format:\n",
    "Fixed lines (022)4084062\n",
    "Mobile lines 93412 66159\n",
    "Telemarketers 1402316533\n",
    "\"\"\""
   ]
  },
  {
   "cell_type": "code",
   "execution_count": null,
   "metadata": {},
   "outputs": [],
   "source": [
    "\"First record of texts, <incoming number> texts <answering number> at time <time>\"\n",
    "\"Last record of calls, <incoming number> calls <answering number> at time <time>, lasting <during> seconds\""
   ]
  },
  {
   "cell_type": "code",
   "execution_count": 16,
   "metadata": {},
   "outputs": [
    {
     "name": "stdout",
     "output_type": "stream",
     "text": [
      "First record of texts, 94489 72078 texts 92415 91418 at time 01-09-2016 06:05:35\n"
     ]
    }
   ],
   "source": [
    "first = 1\n",
    "last = -1\n",
    "incoming_num = texts[first][0]\n",
    "ans_num = texts[first][1]\n",
    "text_time = texts[first][2]\n",
    "\n",
    "print((\"First record of texts, {} texts {} at time {}\").format(incoming_num,ans_num,text_time))"
   ]
  },
  {
   "cell_type": "code",
   "execution_count": 18,
   "metadata": {},
   "outputs": [
    {
     "name": "stdout",
     "output_type": "stream",
     "text": [
      "Last record of calls, 98447 62998 calls (080)46304537 at time 30-09-2016 23:57:15, lasting 2151 seconds\n"
     ]
    }
   ],
   "source": [
    "incoming_num = calls[last][0]\n",
    "ans_num = calls[last][1]\n",
    "text_time = calls[last][2]\n",
    "duration = calls[last][3]\n",
    "\n",
    "print((\"Last record of calls, {} calls {} at time {}, lasting {} seconds\").format(incoming_num,ans_num,text_time,duration))"
   ]
  },
  {
   "cell_type": "code",
   "execution_count": 25,
   "metadata": {},
   "outputs": [],
   "source": [
    "num1 = [call_list[0] for call_list in calls]\n",
    "num2 = [call_list[1] for call_list in calls]\n",
    "num3 = [call_list[0] for call_list in calls]\n",
    "num4 = [call_list[1] for call_list in calls]"
   ]
  },
  {
   "cell_type": "code",
   "execution_count": 26,
   "metadata": {},
   "outputs": [],
   "source": [
    "unique_numbers = list(set(num1+num2+num3+num4))"
   ]
  },
  {
   "cell_type": "code",
   "execution_count": 27,
   "metadata": {},
   "outputs": [
    {
     "name": "stdout",
     "output_type": "stream",
     "text": [
      "There are 551 different telephone numbers in the records.\n"
     ]
    }
   ],
   "source": [
    "\"\"\"\n",
    "TASK 1:\n",
    "How many different telephone numbers are there in the records? \n",
    "Print a message:\n",
    "\"There are <count> different telephone numbers in the records.\"\n",
    "\"\"\"\n",
    "print((\"There are {} different telephone numbers in the records.\").format(len(unique_numbers)))"
   ]
  },
  {
   "cell_type": "code",
   "execution_count": 45,
   "metadata": {},
   "outputs": [
    {
     "data": {
      "text/plain": [
       "[9, 10, 11, 12, 13]"
      ]
     },
     "execution_count": 45,
     "metadata": {},
     "output_type": "execute_result"
    }
   ],
   "source": [
    "\"\"\"\n",
    "TASK 2: Which telephone number spent the longest time on the phone\n",
    "during the period? Don't forget that time spent answering a call is\n",
    "also time spent on the phone.\n",
    "Print a message:\n",
    "\"<telephone number> spent the longest time, <total time> seconds, on the phone during \n",
    "September 2016.\".\n",
    "\"\"\"\n",
    "long_dur = [int(call_list[3]) for call_list in calls]\n",
    "long_dur = list(set(long_dur))\n",
    "long_dur[:5]"
   ]
  },
  {
   "cell_type": "code",
   "execution_count": 46,
   "metadata": {},
   "outputs": [
    {
     "data": {
      "text/plain": [
       "2111"
      ]
     },
     "execution_count": 46,
     "metadata": {},
     "output_type": "execute_result"
    }
   ],
   "source": [
    "len(long_dur)"
   ]
  },
  {
   "cell_type": "code",
   "execution_count": 47,
   "metadata": {},
   "outputs": [],
   "source": [
    "long_dur.sort(reverse=True)"
   ]
  },
  {
   "cell_type": "code",
   "execution_count": 48,
   "metadata": {},
   "outputs": [
    {
     "data": {
      "text/plain": [
       "[4617, 4514, 4459, 4385, 4378]"
      ]
     },
     "execution_count": 48,
     "metadata": {},
     "output_type": "execute_result"
    }
   ],
   "source": [
    "long_dur[:5]"
   ]
  },
  {
   "cell_type": "code",
   "execution_count": 49,
   "metadata": {},
   "outputs": [
    {
     "name": "stdout",
     "output_type": "stream",
     "text": [
      "4617 spent the longest time, <total time> seconds, on the phone during \n",
      "September 2016.\n"
     ]
    }
   ],
   "source": [
    "print((\"\"\"{} spent the longest time, <total time> seconds, on the phone during \n",
    "September 2016.\"\"\").format(long_dur[0]))"
   ]
  },
  {
   "cell_type": "code",
   "execution_count": null,
   "metadata": {},
   "outputs": [],
   "source": [
    "\"\"\"\n",
    "TASK 3:\n",
    "(080) is the area code for fixed line telephones in Bangalore.\n",
    "Fixed line numbers include parentheses, so Bangalore numbers\n",
    "have the form (080)xxxxxxx.)\n",
    "\n",
    "Part A: Find all of the area codes and mobile prefixes called by people\n",
    "in Bangalore.\n",
    " - Fixed lines start with an area code enclosed in brackets. The area\n",
    "   codes vary in length but always begin with 0.\n",
    " - Mobile numbers have no parentheses, but have a space in the middle\n",
    "   of the number to help readability. The prefix of a mobile number\n",
    "   is its first four digits, and they always start with 7, 8 or 9.\n",
    " - Telemarketers' numbers have no parentheses or space, but they start\n",
    "   with the area code 140.\n",
    "\n",
    "Print the answer as part of a message:\n",
    "\"The numbers called by people in Bangalore have codes:\"\n",
    " <list of codes>\n",
    "The list of codes should be print out one per line in lexicographic order with no duplicates.\n",
    "\n",
    "\"\"\""
   ]
  },
  {
   "cell_type": "code",
   "execution_count": 58,
   "metadata": {},
   "outputs": [],
   "source": [
    "bang_nums = [call_list[1] for call_list in calls if str(call_list[0])[1:4] == '080' ]"
   ]
  },
  {
   "cell_type": "code",
   "execution_count": 59,
   "metadata": {},
   "outputs": [
    {
     "data": {
      "text/plain": [
       "['(080)64436158', '97402 57057', '92415 66985', '78295 48262', '(080)39991213']"
      ]
     },
     "execution_count": 59,
     "metadata": {},
     "output_type": "execute_result"
    }
   ],
   "source": [
    "bang_nums = list(set(bang_nums))\n",
    "bang_nums[:5]"
   ]
  },
  {
   "cell_type": "code",
   "execution_count": 62,
   "metadata": {},
   "outputs": [],
   "source": [
    "str1 = ' \\n'.join(bang_nums)"
   ]
  },
  {
   "cell_type": "code",
   "execution_count": 63,
   "metadata": {
    "collapsed": true,
    "jupyter": {
     "outputs_hidden": true
    }
   },
   "outputs": [
    {
     "name": "stdout",
     "output_type": "stream",
     "text": [
      "The numbers called by people in Bangalore have codes:(080)64436158 \n",
      "97402 57057 \n",
      "92415 66985 \n",
      "78295 48262 \n",
      "(080)39991213 \n",
      "(022)38214945 \n",
      "(080)33251027 \n",
      "(080)39755879 \n",
      "95266 42732 \n",
      "90088 09624 \n",
      "93428 98469 \n",
      "92421 09526 \n",
      "93426 76415 \n",
      "98445 27876 \n",
      "97410 27512 \n",
      "98447 62998 \n",
      "94480 64700 \n",
      "94488 97308 \n",
      "(080)62164823 \n",
      "98445 71741 \n",
      "97380 60551 \n",
      "(040)34008657 \n",
      "(0821)6141380 \n",
      "(022)28952819 \n",
      "90192 30758 \n",
      "(080)64047472 \n",
      "(022)66911540 \n",
      "74064 33807 \n",
      "95263 76972 \n",
      "(080)44389098 \n",
      "81517 73746 \n",
      "(080)62342282 \n",
      "(080)67426410 \n",
      "(080)60068611 \n",
      "98459 20681 \n",
      "97416 18084 \n",
      "90355 94399 \n",
      "93434 31551 \n",
      "84313 80377 \n",
      "(080)41203315 \n",
      "(080)47459867 \n",
      "(080)32390650 \n",
      "(0471)6537077 \n",
      "98442 73671 \n",
      "94002 85593 \n",
      "90351 35947 \n",
      "(080)40395498 \n",
      "(080)35986130 \n",
      "81513 36123 \n",
      "(080)43685310 \n",
      "(080)61419142 \n",
      "97415 99182 \n",
      "92429 86621 \n",
      "81515 65055 \n",
      "(040)66729318 \n",
      "93412 40385 \n",
      "93432 65750 \n",
      "(080)44046839 \n",
      "74062 28875 \n",
      "77956 55474 \n",
      "99612 41256 \n",
      "94491 29500 \n",
      "94491 55790 \n",
      "99003 88572 \n",
      "83013 85044 \n",
      "98448 88411 \n",
      "99004 86250 \n",
      "81513 30231 \n",
      "90194 08626 \n",
      "(080)29435303 \n",
      "98448 87878 \n",
      "(080)32647101 \n",
      "92415 49633 \n",
      "(04344)615310 \n",
      "98446 78140 \n",
      "(04546)267875 \n",
      "(080)20227149 \n",
      "90087 42537 \n",
      "74066 93594 \n",
      "95267 70383 \n",
      "(080)43562014 \n",
      "98443 99204 \n",
      "(044)64005505 \n",
      "90196 73585 \n",
      "(0821)4753474 \n",
      "98448 86633 \n",
      "(080)22759842 \n",
      "(080)61123756 \n",
      "(044)49481100 \n",
      "(080)26097534 \n",
      "90199 91061 \n",
      "93427 40118 \n",
      "(080)49796269 \n",
      "94001 62063 \n",
      "98440 65896 \n",
      "94482 95223 \n",
      "(080)43215621 \n",
      "90355 49499 \n",
      "78295 20931 \n",
      "90199 67471 \n",
      "90192 87313 \n",
      "97380 86781 \n",
      "81510 47188 \n",
      "(080)46702492 \n",
      "(022)22288051 \n",
      "97386 37259 \n",
      "(080)25863765 \n",
      "(080)32255824 \n",
      "(044)68407232 \n",
      "78130 36804 \n",
      "94495 34273 \n",
      "92414 22596 \n",
      "78293 38561 \n",
      "97422 22278 \n",
      "98458 94162 \n",
      "78135 69048 \n",
      "(040)26738737 \n",
      "96569 95359 \n",
      "97418 46131 \n",
      "92423 51078 \n",
      "81524 55552 \n",
      "99001 95783 \n",
      "(080)23413513 \n",
      "94005 20878 \n",
      "84312 48999 \n",
      "97406 74488 \n",
      "(080)31863188 \n",
      "(04344)316423 \n",
      "90365 06212 \n",
      "87146 31956 \n",
      "97424 21092 \n",
      "98440 71648 \n",
      "(04344)228249 \n",
      "92421 64236 \n",
      "84319 52539 \n",
      "(04344)211113 \n",
      "90368 95100 \n",
      "93414 19669 \n",
      "(080)46566171 \n",
      "97406 93118\n"
     ]
    }
   ],
   "source": [
    "print((\"The numbers called by people in Bangalore have codes:{}\").format(str1))"
   ]
  },
  {
   "cell_type": "code",
   "execution_count": null,
   "metadata": {},
   "outputs": [],
   "source": [
    "\"\"\"Part B: What percentage of calls from fixed lines in Bangalore are made\n",
    "to fixed lines also in Bangalore? In other words, of all the calls made\n",
    "from a number starting with \"(080)\", what percentage of these calls\n",
    "were made to a number also starting with \"(080)\"?\n",
    "\n",
    "Print the answer as a part of a message::\n",
    "\"<percentage> percent of calls from fixed lines in Bangalore are calls\n",
    "to other fixed lines in Bangalore.\"\n",
    "The percentage should have 2 decimal digits\n",
    "\"\"\"\"\"\""
   ]
  },
  {
   "cell_type": "code",
   "execution_count": 64,
   "metadata": {},
   "outputs": [],
   "source": [
    "bang2bang = [num for num in bang_nums if num[1:4] == '080']"
   ]
  },
  {
   "cell_type": "code",
   "execution_count": 66,
   "metadata": {},
   "outputs": [
    {
     "data": {
      "text/plain": [
       "33"
      ]
     },
     "execution_count": 66,
     "metadata": {},
     "output_type": "execute_result"
    }
   ],
   "source": [
    "len(bang2bang)"
   ]
  },
  {
   "cell_type": "code",
   "execution_count": 67,
   "metadata": {},
   "outputs": [
    {
     "data": {
      "text/plain": [
       "140"
      ]
     },
     "execution_count": 67,
     "metadata": {},
     "output_type": "execute_result"
    }
   ],
   "source": [
    "len(bang_nums)"
   ]
  },
  {
   "cell_type": "code",
   "execution_count": 71,
   "metadata": {},
   "outputs": [
    {
     "name": "stdout",
     "output_type": "stream",
     "text": [
      "23 percent of calls from fixed lines in Bangalore are calls\n",
      "to other fixed lines in Bangalore.\n"
     ]
    }
   ],
   "source": [
    "print((\"\"\"{} percent of calls from fixed lines in Bangalore are calls\n",
    "to other fixed lines in Bangalore.\"\"\").format(int((len(bang2bang)/len(bang_nums))*100)))"
   ]
  },
  {
   "cell_type": "code",
   "execution_count": null,
   "metadata": {},
   "outputs": [],
   "source": []
  }
 ],
 "metadata": {
  "kernelspec": {
   "display_name": "Python 3",
   "language": "python",
   "name": "python3"
  },
  "language_info": {
   "codemirror_mode": {
    "name": "ipython",
    "version": 3
   },
   "file_extension": ".py",
   "mimetype": "text/x-python",
   "name": "python",
   "nbconvert_exporter": "python",
   "pygments_lexer": "ipython3",
   "version": "3.7.3"
  }
 },
 "nbformat": 4,
 "nbformat_minor": 4
}
